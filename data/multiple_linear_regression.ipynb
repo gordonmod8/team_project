{
 "cells": [
  {
   "cell_type": "markdown",
   "id": "9d591e0a-fa07-473d-95c8-39671020c073",
   "metadata": {},
   "source": [
    "# Credit Card Fraud Investigation\n",
    "### Exploration and Multiple linear regression\n",
    "*Gordon Geringas / Wed Jun 19 2024*"
   ]
  },
  {
   "cell_type": "markdown",
   "id": "929009a1-0677-4335-af35-f711bbcf242a",
   "metadata": {},
   "source": [
    "Data Source: [\"Credit Card Fraud\" Dhanush Narayanan R, htttps://kaggle.com](https://www.kaggle.com/datasets/dhanushnarayananr/credit-card-fraud)"
   ]
  },
  {
   "cell_type": "code",
   "execution_count": 1,
   "id": "ec622e46-09b4-468d-a784-e264c6d56bcb",
   "metadata": {},
   "outputs": [],
   "source": [
    "#Beginning as usual with importing necessary libraries\n",
    "\n",
    "import matplotlib.pyplot as plt\n",
    "import pandas as pd\n",
    "import numpy as np\n",
    "from ISLP.models import (ModelSpec as MS,\n",
    "                         summarize)"
   ]
  },
  {
   "cell_type": "code",
   "execution_count": 14,
   "id": "889f0e51-3f0c-4974-90c6-0925c8e3d1b0",
   "metadata": {},
   "outputs": [
    {
     "data": {
      "text/plain": [
       "['distance_from_home',\n",
       " 'distance_from_last_transaction',\n",
       " 'ratio_to_median_purchase_price',\n",
       " 'repeat_retailer',\n",
       " 'used_chip',\n",
       " 'used_pin_number',\n",
       " 'online_order',\n",
       " 'fraud']"
      ]
     },
     "execution_count": 14,
     "metadata": {},
     "output_type": "execute_result"
    }
   ],
   "source": [
    "df = pd.read_csv('./card_transdata.csv')\n",
    "list(df)"
   ]
  },
  {
   "cell_type": "code",
   "execution_count": null,
   "id": "7cbdde0a-fae9-4d24-8595-27db59412898",
   "metadata": {},
   "outputs": [],
   "source": [
    "#The response is the column 'fraud' coded as 1 or 0\n",
    "\n"
   ]
  }
 ],
 "metadata": {
  "kernelspec": {
   "display_name": "Python 3 (ipykernel)",
   "language": "python",
   "name": "python3"
  },
  "language_info": {
   "codemirror_mode": {
    "name": "ipython",
    "version": 3
   },
   "file_extension": ".py",
   "mimetype": "text/x-python",
   "name": "python",
   "nbconvert_exporter": "python",
   "pygments_lexer": "ipython3",
   "version": "3.9.19"
  }
 },
 "nbformat": 4,
 "nbformat_minor": 5
}
